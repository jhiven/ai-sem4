{
 "cells": [
  {
   "cell_type": "code",
   "execution_count": 1,
   "metadata": {},
   "outputs": [
    {
     "name": "stdout",
     "output_type": "stream",
     "text": [
      "Requirement already satisfied: pandas in ./.venv/lib/python3.11/site-packages (2.2.2)\n",
      "Requirement already satisfied: numpy>=1.23.2 in ./.venv/lib/python3.11/site-packages (from pandas) (1.26.4)\n",
      "Requirement already satisfied: python-dateutil>=2.8.2 in ./.venv/lib/python3.11/site-packages (from pandas) (2.9.0.post0)\n",
      "Requirement already satisfied: pytz>=2020.1 in ./.venv/lib/python3.11/site-packages (from pandas) (2024.1)\n",
      "Requirement already satisfied: tzdata>=2022.7 in ./.venv/lib/python3.11/site-packages (from pandas) (2024.1)\n",
      "Requirement already satisfied: six>=1.5 in ./.venv/lib/python3.11/site-packages (from python-dateutil>=2.8.2->pandas) (1.16.0)\n",
      "Note: you may need to restart the kernel to use updated packages.\n",
      "Requirement already satisfied: scikit-learn in ./.venv/lib/python3.11/site-packages (1.5.0)\n",
      "Requirement already satisfied: numpy>=1.19.5 in ./.venv/lib/python3.11/site-packages (from scikit-learn) (1.26.4)\n",
      "Requirement already satisfied: scipy>=1.6.0 in ./.venv/lib/python3.11/site-packages (from scikit-learn) (1.13.1)\n",
      "Requirement already satisfied: joblib>=1.2.0 in ./.venv/lib/python3.11/site-packages (from scikit-learn) (1.4.2)\n",
      "Requirement already satisfied: threadpoolctl>=3.1.0 in ./.venv/lib/python3.11/site-packages (from scikit-learn) (3.5.0)\n",
      "Note: you may need to restart the kernel to use updated packages.\n",
      "Requirement already satisfied: numpy in ./.venv/lib/python3.11/site-packages (1.26.4)\n",
      "Note: you may need to restart the kernel to use updated packages.\n"
     ]
    }
   ],
   "source": [
    "%pip install pandas\n",
    "%pip install scikit-learn\n",
    "%pip install numpy"
   ]
  },
  {
   "cell_type": "code",
   "execution_count": 2,
   "metadata": {},
   "outputs": [],
   "source": [
    "import pandas as pd\n",
    "from sklearn.linear_model import Perceptron"
   ]
  },
  {
   "cell_type": "code",
   "execution_count": 3,
   "metadata": {},
   "outputs": [
    {
     "name": "stdout",
     "output_type": "stream",
     "text": [
      "1.0\n",
      "[0 1 1 1]\n"
     ]
    }
   ],
   "source": [
    "dataset_or = pd.read_csv('OR.csv')\n",
    "data_or = dataset_or.iloc[:,:-1]\n",
    "label_or = dataset_or.iloc[:,-1]\n",
    "\n",
    "clf = Perceptron(tol=1e-3, random_state=0)\n",
    "clf.fit(data_or, label_or)\n",
    "print(clf.score(data_or,label_or))\n",
    "print(clf.predict(data_or))"
   ]
  },
  {
   "cell_type": "code",
   "execution_count": 4,
   "metadata": {},
   "outputs": [
    {
     "name": "stdout",
     "output_type": "stream",
     "text": [
      "1.0\n",
      "[0 0 0 1]\n"
     ]
    }
   ],
   "source": [
    "dataset_and = pd.read_csv('AND.csv')\n",
    "data_and = dataset_and.iloc[:,:-1]\n",
    "label_and = dataset_and.iloc[:,-1]\n",
    "\n",
    "clf = Perceptron(tol=1e-3, random_state=0)\n",
    "clf.fit(data_and, label_and)\n",
    "print(clf.score(data_and,label_and))\n",
    "print(clf.predict(data_and))"
   ]
  },
  {
   "cell_type": "code",
   "execution_count": 5,
   "metadata": {},
   "outputs": [
    {
     "name": "stdout",
     "output_type": "stream",
     "text": [
      "0.5\n",
      "[0 0 0 0]\n"
     ]
    }
   ],
   "source": [
    "dataset_xor = pd.read_csv('XOR.csv')\n",
    "data_xor = dataset_xor.iloc[:,:-1]\n",
    "label_xor = dataset_xor.iloc[:,-1]\n",
    "\n",
    "clf = Perceptron(tol=1e-3, random_state=0)\n",
    "clf.fit(data_xor, label_xor)\n",
    "print(clf.score(data_xor,label_xor))\n",
    "print(clf.predict(data_xor))"
   ]
  },
  {
   "cell_type": "code",
   "execution_count": 6,
   "metadata": {},
   "outputs": [],
   "source": [
    "import pandas as pd\n",
    "from sklearn.neural_network import MLPClassifier as MLP"
   ]
  },
  {
   "cell_type": "code",
   "execution_count": 7,
   "metadata": {},
   "outputs": [
    {
     "name": "stdout",
     "output_type": "stream",
     "text": [
      "score: 1.0\n",
      "predictions: [0 1 1 0]\n"
     ]
    }
   ],
   "source": [
    "dataset_mlp_xor = pd.read_csv('XOR.csv')\n",
    "data_mlp_xor = dataset_mlp_xor.iloc[:,0:-1]\n",
    "label_mlp_xor = dataset_mlp_xor.iloc[:,-1]\n",
    "\n",
    "model = MLP(hidden_layer_sizes=(4), max_iter=10000, activation = 'relu', random_state=99)\n",
    "model.fit(data_mlp_xor,label_mlp_xor)\n",
    "\n",
    "print('score:', model.score(data_mlp_xor,label_mlp_xor))\n",
    "print('predictions:', model.predict(data_mlp_xor))"
   ]
  },
  {
   "cell_type": "code",
   "execution_count": 8,
   "metadata": {},
   "outputs": [],
   "source": [
    "from sklearn.model_selection import train_test_split\n",
    "\n",
    "dataset_heart = pd.read_csv('heart.csv')\n",
    "data_heart = dataset_heart.iloc[:, :-1]\n",
    "label_heart = dataset_heart.iloc[:, -1]\n",
    "\n",
    "xtrain, xtest, ytrain, ytest = train_test_split(data_heart, label_heart, test_size=0.3, random_state=5)"
   ]
  },
  {
   "cell_type": "code",
   "execution_count": 11,
   "metadata": {},
   "outputs": [
    {
     "name": "stdout",
     "output_type": "stream",
     "text": [
      "score train: 0.839622641509434\n"
     ]
    }
   ],
   "source": [
    "model_heart = MLP(hidden_layer_sizes=(10), max_iter=1000, activation = 'relu', solver='lbfgs', random_state=1000)\n",
    "model_heart.fit(xtrain, ytrain.values.ravel())\n",
    "\n",
    "print('score train:', model_heart.score(xtrain,ytrain))"
   ]
  },
  {
   "cell_type": "code",
   "execution_count": 12,
   "metadata": {},
   "outputs": [
    {
     "name": "stdout",
     "output_type": "stream",
     "text": [
      "score test: 0.8571428571428571\n"
     ]
    }
   ],
   "source": [
    "print('score test:', model_heart.score(xtest,ytest))"
   ]
  }
 ],
 "metadata": {
  "kernelspec": {
   "display_name": ".venv",
   "language": "python",
   "name": "python3"
  },
  "language_info": {
   "codemirror_mode": {
    "name": "ipython",
    "version": 3
   },
   "file_extension": ".py",
   "mimetype": "text/x-python",
   "name": "python",
   "nbconvert_exporter": "python",
   "pygments_lexer": "ipython3",
   "version": "3.11.9"
  }
 },
 "nbformat": 4,
 "nbformat_minor": 2
}
